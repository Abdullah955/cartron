{
 "cells": [
  {
   "cell_type": "code",
   "execution_count": 772,
   "metadata": {},
   "outputs": [],
   "source": [
    "import urllib\n",
    "import requests \n",
    "from bs4 import BeautifulSoup \n",
    "import pandas as pd\n",
    "import numpy as np\n",
    "from collections import defaultdict"
   ]
  },
  {
   "cell_type": "code",
   "execution_count": null,
   "metadata": {},
   "outputs": [],
   "source": []
  },
  {
   "cell_type": "code",
   "execution_count": 773,
   "metadata": {},
   "outputs": [],
   "source": [
    "URL = 'https://haraj.com.sa/tags/%D8%AD%D8%B1%D8%A7%D8%AC%20%D8%A7%D9%84%D8%B3%D9%8A%D8%A7%D8%B1%D8%A7%D8%AA'\n",
    "r = requests.get(URL)\n",
    "soup = BeautifulSoup(r.content, 'html5lib') \n",
    "\n",
    "table = soup.findAll('a',attrs = {'class':'brand-logos--svg'})\n"
   ]
  },
  {
   "cell_type": "code",
   "execution_count": 774,
   "metadata": {},
   "outputs": [],
   "source": [
    "# table"
   ]
  },
  {
   "cell_type": "code",
   "execution_count": 775,
   "metadata": {},
   "outputs": [],
   "source": [
    "df = pd.DataFrame(columns= ['Company', 'Carmodel', 'URL'])\n",
    "\n",
    "company_names = []\n",
    "car_names = []\n",
    "\n",
    "# print(table[0]['href'])\n",
    "\n",
    "company_links = defaultdict(list)\n",
    "for link in table:\n",
    "    href = link['href']\n",
    "    URL = 'https://haraj.com.sa' + urllib.parse.quote(href)\n",
    "    company_name = href.split('/')[-1]\n",
    "\n",
    "    company_links[company_name].append(URL)\n"
   ]
  },
  {
   "cell_type": "code",
   "execution_count": 776,
   "metadata": {},
   "outputs": [
    {
     "data": {
      "text/html": [
       "<div>\n",
       "<style scoped>\n",
       "    .dataframe tbody tr th:only-of-type {\n",
       "        vertical-align: middle;\n",
       "    }\n",
       "\n",
       "    .dataframe tbody tr th {\n",
       "        vertical-align: top;\n",
       "    }\n",
       "\n",
       "    .dataframe thead th {\n",
       "        text-align: right;\n",
       "    }\n",
       "</style>\n",
       "<table border=\"1\" class=\"dataframe\">\n",
       "  <thead>\n",
       "    <tr style=\"text-align: right;\">\n",
       "      <th></th>\n",
       "      <th>company</th>\n",
       "      <th>url</th>\n",
       "    </tr>\n",
       "  </thead>\n",
       "  <tbody>\n",
       "    <tr>\n",
       "      <th>0</th>\n",
       "      <td>تويوتا</td>\n",
       "      <td>[https://haraj.com.sa/tags/%D8%AA%D9%88%D9%8A%...</td>\n",
       "    </tr>\n",
       "    <tr>\n",
       "      <th>1</th>\n",
       "      <td>نيسان</td>\n",
       "      <td>[https://haraj.com.sa/tags/%D9%86%D9%8A%D8%B3%...</td>\n",
       "    </tr>\n",
       "    <tr>\n",
       "      <th>2</th>\n",
       "      <td>فورد</td>\n",
       "      <td>[https://haraj.com.sa/tags/%D9%81%D9%88%D8%B1%...</td>\n",
       "    </tr>\n",
       "    <tr>\n",
       "      <th>3</th>\n",
       "      <td>لكزس</td>\n",
       "      <td>[https://haraj.com.sa/tags/%D9%84%D9%83%D8%B2%...</td>\n",
       "    </tr>\n",
       "    <tr>\n",
       "      <th>4</th>\n",
       "      <td>شيفروليه</td>\n",
       "      <td>[https://haraj.com.sa/tags/%D8%B4%D9%8A%D9%81%...</td>\n",
       "    </tr>\n",
       "  </tbody>\n",
       "</table>\n",
       "</div>"
      ],
      "text/plain": [
       "    company                                                url\n",
       "0    تويوتا  [https://haraj.com.sa/tags/%D8%AA%D9%88%D9%8A%...\n",
       "1     نيسان  [https://haraj.com.sa/tags/%D9%86%D9%8A%D8%B3%...\n",
       "2      فورد  [https://haraj.com.sa/tags/%D9%81%D9%88%D8%B1%...\n",
       "3      لكزس  [https://haraj.com.sa/tags/%D9%84%D9%83%D8%B2%...\n",
       "4  شيفروليه  [https://haraj.com.sa/tags/%D8%B4%D9%8A%D9%81%..."
      ]
     },
     "execution_count": 776,
     "metadata": {},
     "output_type": "execute_result"
    }
   ],
   "source": [
    "company_df = pd.DataFrame(company_links.items(), columns=['company','url'])\n",
    "company_df.head()"
   ]
  },
  {
   "cell_type": "code",
   "execution_count": null,
   "metadata": {},
   "outputs": [],
   "source": []
  },
  {
   "cell_type": "code",
   "execution_count": 786,
   "metadata": {},
   "outputs": [],
   "source": [
    "df = pd.DataFrame(columns=['company','company_url','car_name','car_link'])\n",
    "\n",
    "\n",
    "\n",
    "\n",
    "for company, href in company_links.items():\n",
    "\n",
    "    URL = href[0] #'https://haraj.com.sa' + urllib.parse.quote(href)\n",
    "    r = requests.get(URL) \n",
    "    soup = BeautifulSoup(r.content, 'html5lib') \n",
    "\n",
    "    cars2 = soup.findAll('ul', attrs = {'class':'tabs_list supTabs list-container'})\n",
    "    \n",
    "    try:\n",
    "        for i in cars2[1]:\n",
    "            car_type = i.findAll(\"a\")#[0].text \n",
    "            car_type = [c.text for c in car_type]\n",
    "\n",
    "            car_link = i.find_all('a',attrs={'class': 'supTab_link'})[0]['href']\n",
    "            \n",
    "            company_links[company].append(car_type)\n",
    "            company_links[company].append(car_link)\n",
    "            \n",
    "            df = df.append({'company':company ,\n",
    "                'company_url': URL,\n",
    "                'car_name': car_type[0],\n",
    "                'car_link':car_link }\n",
    "               , ignore_index=True)\n",
    "    except:\n",
    "        car_type = 'Unknown'\n",
    "        car_link = 'Unknown'\n",
    "        df = df.append({'company':company ,\n",
    "                            'company_url': URL,\n",
    "                            'car_name': car_type[0],\n",
    "                            'car_link':car_link }\n",
    "                           , ignore_index=True)\n",
    "        \n",
    "        company_links[company].append(car_type)\n",
    "        company_links[company].append(car_link)\n",
    "    \n",
    "    "
   ]
  },
  {
   "cell_type": "code",
   "execution_count": 793,
   "metadata": {},
   "outputs": [
    {
     "name": "stdout",
     "output_type": "stream",
     "text": [
      "(591, 4)\n",
      "Index(['company', 'company_url', 'car_name', 'car_link'], dtype='object')\n"
     ]
    }
   ],
   "source": [
    "# company_links\n",
    "df = df.drop_duplicates()\n",
    "print(df.shape)\n",
    "print(df.columns)"
   ]
  },
  {
   "cell_type": "code",
   "execution_count": 791,
   "metadata": {},
   "outputs": [],
   "source": [
    "un_wanted_links = ['قطع غيار وملحقات',\n",
    "'شاحنات ومعدات ثقيلة',\n",
    "'دبابات',\n",
    "'سيارات تراثية',\n",
    "'search-مصدوم مصدومة',\n",
    "'search-للتنازل تنازل',\n",
    "'0',\n",
    "'1',\n",
    "0,\n",
    "1]\n"
   ]
  },
  {
   "cell_type": "code",
   "execution_count": 796,
   "metadata": {},
   "outputs": [
    {
     "name": "stdout",
     "output_type": "stream",
     "text": [
      "(557, 4)\n",
      "Index(['company', 'company_url', 'car_name', 'car_link'], dtype='object')\n"
     ]
    }
   ],
   "source": [
    "df = df[~df['company'].isin(un_wanted_links)]\n",
    "print(df.shape)\n",
    "print(df.columns)"
   ]
  },
  {
   "cell_type": "code",
   "execution_count": 797,
   "metadata": {},
   "outputs": [
    {
     "data": {
      "text/html": [
       "<div>\n",
       "<style scoped>\n",
       "    .dataframe tbody tr th:only-of-type {\n",
       "        vertical-align: middle;\n",
       "    }\n",
       "\n",
       "    .dataframe tbody tr th {\n",
       "        vertical-align: top;\n",
       "    }\n",
       "\n",
       "    .dataframe thead th {\n",
       "        text-align: right;\n",
       "    }\n",
       "</style>\n",
       "<table border=\"1\" class=\"dataframe\">\n",
       "  <thead>\n",
       "    <tr style=\"text-align: right;\">\n",
       "      <th></th>\n",
       "      <th>company</th>\n",
       "      <th>company_url</th>\n",
       "      <th>car_name</th>\n",
       "      <th>car_link</th>\n",
       "    </tr>\n",
       "  </thead>\n",
       "  <tbody>\n",
       "    <tr>\n",
       "      <th>0</th>\n",
       "      <td>تويوتا</td>\n",
       "      <td>https://haraj.com.sa/tags/%D8%AA%D9%88%D9%8A%D...</td>\n",
       "      <td>C-HR</td>\n",
       "      <td>/tags/C-HR</td>\n",
       "    </tr>\n",
       "    <tr>\n",
       "      <th>1</th>\n",
       "      <td>تويوتا</td>\n",
       "      <td>https://haraj.com.sa/tags/%D8%AA%D9%88%D9%8A%D...</td>\n",
       "      <td>جرانفيا</td>\n",
       "      <td>/tags/جرانفيا</td>\n",
       "    </tr>\n",
       "    <tr>\n",
       "      <th>2</th>\n",
       "      <td>تويوتا</td>\n",
       "      <td>https://haraj.com.sa/tags/%D8%AA%D9%88%D9%8A%D...</td>\n",
       "      <td>راش</td>\n",
       "      <td>/tags/راش</td>\n",
       "    </tr>\n",
       "    <tr>\n",
       "      <th>3</th>\n",
       "      <td>تويوتا</td>\n",
       "      <td>https://haraj.com.sa/tags/%D8%AA%D9%88%D9%8A%D...</td>\n",
       "      <td>بريوس</td>\n",
       "      <td>/tags/بريوس</td>\n",
       "    </tr>\n",
       "    <tr>\n",
       "      <th>4</th>\n",
       "      <td>تويوتا</td>\n",
       "      <td>https://haraj.com.sa/tags/%D8%AA%D9%88%D9%8A%D...</td>\n",
       "      <td>هايلاندر</td>\n",
       "      <td>/tags/هايلاندر</td>\n",
       "    </tr>\n",
       "    <tr>\n",
       "      <th>...</th>\n",
       "      <td>...</td>\n",
       "      <td>...</td>\n",
       "      <td>...</td>\n",
       "      <td>...</td>\n",
       "    </tr>\n",
       "    <tr>\n",
       "      <th>552</th>\n",
       "      <td>فولفو</td>\n",
       "      <td>https://haraj.com.sa/tags/%D9%81%D9%88%D9%84%D...</td>\n",
       "      <td>XC90</td>\n",
       "      <td>/tags/XC90</td>\n",
       "    </tr>\n",
       "    <tr>\n",
       "      <th>553</th>\n",
       "      <td>فولفو</td>\n",
       "      <td>https://haraj.com.sa/tags/%D9%81%D9%88%D9%84%D...</td>\n",
       "      <td>850</td>\n",
       "      <td>/tags/850</td>\n",
       "    </tr>\n",
       "    <tr>\n",
       "      <th>554</th>\n",
       "      <td>فولفو</td>\n",
       "      <td>https://haraj.com.sa/tags/%D9%81%D9%88%D9%84%D...</td>\n",
       "      <td>S 80</td>\n",
       "      <td>/tags/S 80</td>\n",
       "    </tr>\n",
       "    <tr>\n",
       "      <th>555</th>\n",
       "      <td>ZXAUTO</td>\n",
       "      <td>https://haraj.com.sa/tags/ZXAUTO</td>\n",
       "      <td>جرامد تايجر</td>\n",
       "      <td>/tags/جرامد تايجر</td>\n",
       "    </tr>\n",
       "    <tr>\n",
       "      <th>556</th>\n",
       "      <td>ZXAUTO</td>\n",
       "      <td>https://haraj.com.sa/tags/ZXAUTO</td>\n",
       "      <td>ادميرال</td>\n",
       "      <td>/tags/ادميرال</td>\n",
       "    </tr>\n",
       "  </tbody>\n",
       "</table>\n",
       "<p>557 rows × 4 columns</p>\n",
       "</div>"
      ],
      "text/plain": [
       "    company                                        company_url     car_name  \\\n",
       "0    تويوتا  https://haraj.com.sa/tags/%D8%AA%D9%88%D9%8A%D...         C-HR   \n",
       "1    تويوتا  https://haraj.com.sa/tags/%D8%AA%D9%88%D9%8A%D...      جرانفيا   \n",
       "2    تويوتا  https://haraj.com.sa/tags/%D8%AA%D9%88%D9%8A%D...          راش   \n",
       "3    تويوتا  https://haraj.com.sa/tags/%D8%AA%D9%88%D9%8A%D...        بريوس   \n",
       "4    تويوتا  https://haraj.com.sa/tags/%D8%AA%D9%88%D9%8A%D...     هايلاندر   \n",
       "..      ...                                                ...          ...   \n",
       "552   فولفو  https://haraj.com.sa/tags/%D9%81%D9%88%D9%84%D...         XC90   \n",
       "553   فولفو  https://haraj.com.sa/tags/%D9%81%D9%88%D9%84%D...          850   \n",
       "554   فولفو  https://haraj.com.sa/tags/%D9%81%D9%88%D9%84%D...         S 80   \n",
       "555  ZXAUTO                   https://haraj.com.sa/tags/ZXAUTO  جرامد تايجر   \n",
       "556  ZXAUTO                   https://haraj.com.sa/tags/ZXAUTO      ادميرال   \n",
       "\n",
       "              car_link  \n",
       "0           /tags/C-HR  \n",
       "1        /tags/جرانفيا  \n",
       "2            /tags/راش  \n",
       "3          /tags/بريوس  \n",
       "4       /tags/هايلاندر  \n",
       "..                 ...  \n",
       "552         /tags/XC90  \n",
       "553          /tags/850  \n",
       "554         /tags/S 80  \n",
       "555  /tags/جرامد تايجر  \n",
       "556      /tags/ادميرال  \n",
       "\n",
       "[557 rows x 4 columns]"
      ]
     },
     "execution_count": 797,
     "metadata": {},
     "output_type": "execute_result"
    }
   ],
   "source": [
    "df"
   ]
  },
  {
   "cell_type": "code",
   "execution_count": 1001,
   "metadata": {},
   "outputs": [],
   "source": [
    "def get_posts(car_link):\n",
    "    list_cars = []\n",
    "    car_link = str(car_link)\n",
    "    \n",
    "    if car_link == 'Unknown':\n",
    "        return 'Unknown'\n",
    "    \n",
    "    for page_number in range(1,6):\n",
    "        link = 'https://legacy.haraj.com.sa'+car_link+'/'+ str(page_number)+'/'\n",
    "        r = requests.get(link) \n",
    "        soup = BeautifulSoup(r.content, 'html5lib') \n",
    "        soup = soup.findAll('div', attrs = {'class':'adxTitle'})\n",
    "\n",
    "#         return soup\n",
    "        \n",
    "        try:\n",
    "            for i in soup:\n",
    "                list_cars.append(i.findAll('a')[0]['href'])\n",
    "        except:\n",
    "            list_cars.append('no_links')\n",
    "        break\n",
    "    return list_cars\n",
    "# soup = get_posts('/tags/C-HR')\n",
    "# adxInfo"
   ]
  },
  {
   "cell_type": "code",
   "execution_count": 1002,
   "metadata": {},
   "outputs": [],
   "source": [
    "# df[df['car_link'] == '/tags/C-HR']['car_link'].apply(get_posts)\n",
    "# df_test = df.head(2)"
   ]
  },
  {
   "cell_type": "code",
   "execution_count": 1003,
   "metadata": {},
   "outputs": [],
   "source": [
    "df['cars_posts'] = df['car_link'].apply(get_posts)"
   ]
  },
  {
   "cell_type": "code",
   "execution_count": 1004,
   "metadata": {},
   "outputs": [
    {
     "data": {
      "text/html": [
       "<div>\n",
       "<style scoped>\n",
       "    .dataframe tbody tr th:only-of-type {\n",
       "        vertical-align: middle;\n",
       "    }\n",
       "\n",
       "    .dataframe tbody tr th {\n",
       "        vertical-align: top;\n",
       "    }\n",
       "\n",
       "    .dataframe thead th {\n",
       "        text-align: right;\n",
       "    }\n",
       "</style>\n",
       "<table border=\"1\" class=\"dataframe\">\n",
       "  <thead>\n",
       "    <tr style=\"text-align: right;\">\n",
       "      <th></th>\n",
       "      <th>company</th>\n",
       "      <th>company_url</th>\n",
       "      <th>car_name</th>\n",
       "      <th>car_link</th>\n",
       "      <th>cars_posts</th>\n",
       "    </tr>\n",
       "  </thead>\n",
       "  <tbody>\n",
       "    <tr>\n",
       "      <th>0</th>\n",
       "      <td>تويوتا</td>\n",
       "      <td>https://haraj.com.sa/tags/%D8%AA%D9%88%D9%8A%D...</td>\n",
       "      <td>C-HR</td>\n",
       "      <td>/tags/C-HR</td>\n",
       "      <td>[https://legacy.haraj.com.sa/1172470065/حجر_عي...</td>\n",
       "    </tr>\n",
       "    <tr>\n",
       "      <th>1</th>\n",
       "      <td>تويوتا</td>\n",
       "      <td>https://haraj.com.sa/tags/%D8%AA%D9%88%D9%8A%D...</td>\n",
       "      <td>جرانفيا</td>\n",
       "      <td>/tags/جرانفيا</td>\n",
       "      <td>[https://legacy.haraj.com.sa/1172125750/تويوتا...</td>\n",
       "    </tr>\n",
       "    <tr>\n",
       "      <th>2</th>\n",
       "      <td>تويوتا</td>\n",
       "      <td>https://haraj.com.sa/tags/%D8%AA%D9%88%D9%8A%D...</td>\n",
       "      <td>راش</td>\n",
       "      <td>/tags/راش</td>\n",
       "      <td>[https://legacy.haraj.com.sa/1172455829/تويوتا...</td>\n",
       "    </tr>\n",
       "    <tr>\n",
       "      <th>3</th>\n",
       "      <td>تويوتا</td>\n",
       "      <td>https://haraj.com.sa/tags/%D8%AA%D9%88%D9%8A%D...</td>\n",
       "      <td>بريوس</td>\n",
       "      <td>/tags/بريوس</td>\n",
       "      <td>[https://legacy.haraj.com.sa/1172393338/تويوتا...</td>\n",
       "    </tr>\n",
       "    <tr>\n",
       "      <th>4</th>\n",
       "      <td>تويوتا</td>\n",
       "      <td>https://haraj.com.sa/tags/%D8%AA%D9%88%D9%8A%D...</td>\n",
       "      <td>هايلاندر</td>\n",
       "      <td>/tags/هايلاندر</td>\n",
       "      <td>[https://legacy.haraj.com.sa/1172458691/هايلان...</td>\n",
       "    </tr>\n",
       "  </tbody>\n",
       "</table>\n",
       "</div>"
      ],
      "text/plain": [
       "  company                                        company_url  car_name  \\\n",
       "0  تويوتا  https://haraj.com.sa/tags/%D8%AA%D9%88%D9%8A%D...      C-HR   \n",
       "1  تويوتا  https://haraj.com.sa/tags/%D8%AA%D9%88%D9%8A%D...   جرانفيا   \n",
       "2  تويوتا  https://haraj.com.sa/tags/%D8%AA%D9%88%D9%8A%D...       راش   \n",
       "3  تويوتا  https://haraj.com.sa/tags/%D8%AA%D9%88%D9%8A%D...     بريوس   \n",
       "4  تويوتا  https://haraj.com.sa/tags/%D8%AA%D9%88%D9%8A%D...  هايلاندر   \n",
       "\n",
       "         car_link                                         cars_posts  \n",
       "0      /tags/C-HR  [https://legacy.haraj.com.sa/1172470065/حجر_عي...  \n",
       "1   /tags/جرانفيا  [https://legacy.haraj.com.sa/1172125750/تويوتا...  \n",
       "2       /tags/راش  [https://legacy.haraj.com.sa/1172455829/تويوتا...  \n",
       "3     /tags/بريوس  [https://legacy.haraj.com.sa/1172393338/تويوتا...  \n",
       "4  /tags/هايلاندر  [https://legacy.haraj.com.sa/1172458691/هايلان...  "
      ]
     },
     "execution_count": 1004,
     "metadata": {},
     "output_type": "execute_result"
    }
   ],
   "source": [
    "df.head()"
   ]
  },
  {
   "cell_type": "code",
   "execution_count": 1005,
   "metadata": {},
   "outputs": [],
   "source": [
    "def get_images(posts):\n",
    "    img_list = []\n",
    "    for link in posts:\n",
    "\n",
    "        r = requests.get(link) \n",
    "        soup = BeautifulSoup(r.content, 'html5lib') \n",
    "        soup = soup.findAll('div', attrs = {'class':'adxBody'})\n",
    "        \n",
    "        for i in soup:\n",
    "            img = i.findAll('img')\n",
    "            for im in img:\n",
    "                img_list.append(im['src'])\n",
    "                \n",
    "    return img_list"
   ]
  },
  {
   "cell_type": "code",
   "execution_count": null,
   "metadata": {},
   "outputs": [],
   "source": [
    "df['img_link'] = df['cars_posts'].apply(get_images)"
   ]
  },
  {
   "cell_type": "code",
   "execution_count": null,
   "metadata": {},
   "outputs": [],
   "source": [
    "df.head()"
   ]
  },
  {
   "cell_type": "code",
   "execution_count": null,
   "metadata": {},
   "outputs": [],
   "source": [
    "df = df.explode('img_link')\n",
    "df = df.reset_index()"
   ]
  },
  {
   "cell_type": "code",
   "execution_count": null,
   "metadata": {},
   "outputs": [],
   "source": []
  },
  {
   "cell_type": "code",
   "execution_count": null,
   "metadata": {},
   "outputs": [],
   "source": []
  },
  {
   "cell_type": "code",
   "execution_count": null,
   "metadata": {},
   "outputs": [],
   "source": []
  },
  {
   "cell_type": "code",
   "execution_count": null,
   "metadata": {},
   "outputs": [],
   "source": []
  }
 ],
 "metadata": {
  "kernelspec": {
   "display_name": "Python 3",
   "language": "python",
   "name": "python3"
  },
  "language_info": {
   "codemirror_mode": {
    "name": "ipython",
    "version": 3
   },
   "file_extension": ".py",
   "mimetype": "text/x-python",
   "name": "python",
   "nbconvert_exporter": "python",
   "pygments_lexer": "ipython3",
   "version": "3.8.5"
  }
 },
 "nbformat": 4,
 "nbformat_minor": 4
}
